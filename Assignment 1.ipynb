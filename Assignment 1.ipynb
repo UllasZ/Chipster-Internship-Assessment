{
 "cells": [
  {
   "cell_type": "code",
   "execution_count": 1,
   "metadata": {},
   "outputs": [
    {
     "name": "stdout",
     "output_type": "stream",
     "text": [
      "Requirement already satisfied: tzlocal in c:\\programdata\\anaconda3\\lib\\site-packages (2.1)\n",
      "Requirement already satisfied: pytz in c:\\programdata\\anaconda3\\lib\\site-packages (from tzlocal) (2020.1)\n"
     ]
    }
   ],
   "source": [
    "import sys\n",
    "!{sys.executable} -m pip install tzlocal\n"
   ]
  },
  {
   "cell_type": "code",
   "execution_count": 2,
   "metadata": {},
   "outputs": [],
   "source": [
    "from datetime import datetime\n",
    "import pytz\n",
    "import tzlocal\n",
    "\n",
    "\n",
    "def utc_to_ist(timestamp):\n",
    "    local_timezone = tzlocal.get_localzone()\n",
    "\n",
    "    # parse given timestamp string to create datetime object.\n",
    "    utc_time = datetime.strptime(timestamp, \"%Y-%m-%dT%H:%M:%S\")\n",
    "    local_time = utc_time.replace(tzinfo=pytz.utc).astimezone(local_timezone)\n",
    "\n",
    "    # fetch back new timestamp.\n",
    "    new_timestamp = local_time.strftime(\"%Y-%m-%dT%H:%M:%S%z\")\n",
    "    return new_timestamp\n",
    "\n"
   ]
  },
  {
   "cell_type": "code",
   "execution_count": 6,
   "metadata": {},
   "outputs": [
    {
     "name": "stdout",
     "output_type": "stream",
     "text": [
      "{'param_name': 'machineId', 'param_value': '30001006', 'timestamp': '2021-04-20T16:30:00+0530'}\n",
      "{'param_name': 'partNumber', 'param_value': 'Test Part', 'timestamp': '2021-04-20T16:30:00+0530'}\n",
      "{'param_name': 'machineStatus', 'param_value': 'red', 'timestamp': '2021-04-20T16:30:00+0530'}\n",
      "{'param_name': 'nozzleTemp', 'param_value': '25', 'timestamp': '2021-04-20T16:30:00+0530'}\n",
      "{'param_name': 'zoneTemp', 'param_value': '200', 'timestamp': '2021-04-20T16:30:00+0530'}\n",
      "{'param_name': 'cycleTime', 'param_value': '65.6', 'timestamp': '2021-04-20T16:30:00+0530'}\n",
      "{'param_name': 'powerConsumption', 'param_value': '3245.67', 'timestamp': '2021-04-20T16:30:00+0530'}\n"
     ]
    }
   ],
   "source": [
    "import csv\n",
    "#from utc_to_ist import utc_to_ist\n",
    "\n",
    "filepath = \"C:\\\\Users\\\\ullas\\\\Downloads\\\\Chipster Assignment\\\\sample.csv\"\n",
    "\n",
    "# open csv file.\n",
    "with open(filepath, \"r\") as f:\n",
    "    csv_reader = csv.DictReader(f)  # read the file as dictionary\n",
    "    data = list(csv_reader)\n",
    "\n",
    "given_timestamp = (data[len(data) - 1].get('Value'))  # extracting timestamp.\n",
    "new_timestamp = utc_to_ist(given_timestamp)  # convert the timestamp from UTC format to IST format.\n",
    "\n",
    "data = data[:-1]\n",
    "\n",
    "# Given Key Mapping is stored as dictionary.\n",
    "mapping = {\n",
    "    \"M_ID\": \"machineId\",\n",
    "    \"P_PART\": \"partNumber\",\n",
    "    \"M_STATE\": \"machineStatus\",\n",
    "    \"NOZZLE_TEMP\": \"nozzleTemp\",\n",
    "    \"ZONE_TEMP\": \"zoneTemp\",\n",
    "    \"C_TIME\": \"cycleTime\",\n",
    "    \"POWER\": \"powerConsumption\",\n",
    "    \"TS\": \"timestamp\"}\n",
    "\n",
    "\n",
    "'''\n",
    "- Replace values from \"mapping\" dictionary.\n",
    "- Rename key name.\n",
    "- Replace new formatted timestamp i.e, UTC to IST.\n",
    "\n",
    "'''\n",
    "\n",
    "def convert(d):\n",
    "    for i in d:\n",
    "        a = []\n",
    "        i.pop(\"\")\n",
    "        i[\"param_name\"] = mapping[i.pop(\"Name\")] \n",
    "        i[\"param_value\"] = i.pop(\"Value\") \n",
    "        i[\"timestamp\"] = new_timestamp\n",
    "        print(i)\n",
    "\n",
    "        \n",
    "convert(data)"
   ]
  },
  {
   "cell_type": "code",
   "execution_count": null,
   "metadata": {},
   "outputs": [],
   "source": []
  }
 ],
 "metadata": {
  "kernelspec": {
   "display_name": "Python 3",
   "language": "python",
   "name": "python3"
  },
  "language_info": {
   "codemirror_mode": {
    "name": "ipython",
    "version": 3
   },
   "file_extension": ".py",
   "mimetype": "text/x-python",
   "name": "python",
   "nbconvert_exporter": "python",
   "pygments_lexer": "ipython3",
   "version": "3.8.5"
  }
 },
 "nbformat": 4,
 "nbformat_minor": 4
}
